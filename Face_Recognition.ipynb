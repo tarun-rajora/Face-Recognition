{
  "nbformat": 4,
  "nbformat_minor": 0,
  "metadata": {
    "colab": {
      "name": "Face Recognition.ipynb",
      "provenance": [],
      "authorship_tag": "ABX9TyMUsPDQJUqzfAzEwFp6XtpF",
      "include_colab_link": true
    },
    "kernelspec": {
      "name": "python3",
      "display_name": "Python 3"
    },
    "accelerator": "GPU"
  },
  "cells": [
    {
      "cell_type": "markdown",
      "metadata": {
        "id": "view-in-github",
        "colab_type": "text"
      },
      "source": [
        "<a href=\"https://colab.research.google.com/github/tarun-rajora/Face-Recognition/blob/master/Face_Recognition.ipynb\" target=\"_parent\"><img src=\"https://colab.research.google.com/assets/colab-badge.svg\" alt=\"Open In Colab\"/></a>"
      ]
    },
    {
      "cell_type": "code",
      "metadata": {
        "id": "JCF9lGCGayuO",
        "colab_type": "code",
        "colab": {
          "base_uri": "https://localhost:8080/",
          "height": 624
        },
        "outputId": "ed8437b6-b336-4ef0-fbbc-d6e0268b76a6"
      },
      "source": [
        "# import the libraries\n",
        "import os\n",
        "import face_recognition\n",
        "\n",
        "# make a list of all the available images\n",
        "# images corresponds to testing images\n",
        "# pictures corresponds to training pictures\n",
        "images = os.listdir('/content/images')\n",
        "pictures = os.listdir('/content/pictures')\n",
        "\n",
        "# to iterate over each testing images\n",
        "for image in images:\n",
        "  image_to_be_matched = face_recognition.load_image_file('/content/images/' + image)\n",
        "  # encoded the loaded image into a feature vector\n",
        "  image_to_be_matched_encoded = face_recognition.face_encodings(image_to_be_matched)[0]\n",
        "  print('Testing Image: ' + image )\n",
        "\n",
        "  # iterate over every training picture for each testing image\n",
        "  for picture in pictures:\n",
        "    # load the image\n",
        "    current_image = face_recognition.load_image_file('/content/pictures/' + picture)\n",
        "    # encode the loaded image into a feature vector\n",
        "    current_image_encoded = face_recognition.face_encodings(current_image)[0]\n",
        "    # matching testing image with the training picture and check if it matches\n",
        "    result = face_recognition.compare_faces([image_to_be_matched_encoded], current_image_encoded)\n",
        "    # check if it was a match\n",
        "    if result[0] == True:\n",
        "        print (\"Matched with \" + picture)\n",
        "    else:\n",
        "        print (\"Not matched \" + picture)\n",
        "  print(\" \") "
      ],
      "execution_count": 2,
      "outputs": [
        {
          "output_type": "stream",
          "text": [
            "Testing Image: 2.png\n",
            "Matched with IMG-20200304-WA0000.jpg\n",
            "Matched with Screenshot_20200821-155329.png\n",
            "Matched with IMG-20200304-WA0002.jpg\n",
            "Matched with IMG-20200304-WA0001.jpg\n",
            "Matched with IMG-20200304-WA0003.jpg\n",
            " \n",
            "Testing Image: 9.png\n",
            "Matched with IMG-20200304-WA0000.jpg\n",
            "Matched with Screenshot_20200821-155329.png\n",
            "Matched with IMG-20200304-WA0002.jpg\n",
            "Matched with IMG-20200304-WA0001.jpg\n",
            "Matched with IMG-20200304-WA0003.jpg\n",
            " \n",
            "Testing Image: 11.png\n",
            "Matched with IMG-20200304-WA0000.jpg\n",
            "Matched with Screenshot_20200821-155329.png\n",
            "Matched with IMG-20200304-WA0002.jpg\n",
            "Matched with IMG-20200304-WA0001.jpg\n",
            "Matched with IMG-20200304-WA0003.jpg\n",
            " \n",
            "Testing Image: 10.png\n",
            "Matched with IMG-20200304-WA0000.jpg\n",
            "Matched with Screenshot_20200821-155329.png\n",
            "Matched with IMG-20200304-WA0002.jpg\n",
            "Matched with IMG-20200304-WA0001.jpg\n",
            "Matched with IMG-20200304-WA0003.jpg\n",
            " \n",
            "Testing Image: 3.png\n",
            "Matched with IMG-20200304-WA0000.jpg\n",
            "Matched with Screenshot_20200821-155329.png\n",
            "Matched with IMG-20200304-WA0002.jpg\n",
            "Matched with IMG-20200304-WA0001.jpg\n",
            "Matched with IMG-20200304-WA0003.jpg\n",
            " \n"
          ],
          "name": "stdout"
        }
      ]
    }
  ]
}